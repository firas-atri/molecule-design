{
  "nbformat": 4,
  "nbformat_minor": 0,
  "metadata": {
    "colab": {
      "provenance": []
    },
    "kernelspec": {
      "name": "python3",
      "display_name": "Python 3"
    },
    "language_info": {
      "name": "python"
    }
  },
  "cells": [
    {
      "cell_type": "code",
      "execution_count": null,
      "metadata": {
        "colab": {
          "base_uri": "https://localhost:8080/"
        },
        "id": "qvOdl8QUVzwT",
        "outputId": "bdef8a51-fb7e-4299-d9bc-598622b1f3f4"
      },
      "outputs": [
        {
          "output_type": "stream",
          "name": "stdout",
          "text": [
            "\u001b[2K     \u001b[90m━━━━━━━━━━━━━━━━━━━━━━━━━━━━━━━━━━━━━━━━\u001b[0m \u001b[32m20.8/20.8 MB\u001b[0m \u001b[31m5.0 MB/s\u001b[0m eta \u001b[36m0:00:00\u001b[0m\n",
            "\u001b[?25h"
          ]
        }
      ],
      "source": [
        "!pip -q install rdkit-pypi==2021.9.4"
      ]
    },
    {
      "cell_type": "code",
      "source": [
        "import ast\n",
        "\n",
        "import pandas as pd\n",
        "import numpy as np\n",
        "\n",
        "import tensorflow as tf\n",
        "from tensorflow import keras\n",
        "from tensorflow.keras import layers\n",
        "\n",
        "import matplotlib.pyplot as plt\n",
        "from rdkit import Chem, RDLogger\n",
        "from rdkit.Chem import BondType\n",
        "from rdkit.Chem.Draw import MolsToGridImage\n",
        "from rdkit.Chem.Draw import *\n",
        "from rdkit.Chem import AllChem\n",
        "\n",
        "RDLogger.DisableLog(\"rdApp.*\")"
      ],
      "metadata": {
        "id": "jyB5148kV9-_"
      },
      "execution_count": null,
      "outputs": []
    },
    {
      "cell_type": "code",
      "source": [
        "# Drive\n",
        "from google.colab import drive\n",
        "drive.mount('/content/drive', force_remount=True)\n",
        "df = pd.read_csv(\"/content/drive/MyDrive/dataset.csv\",delimiter=\";\",  error_bad_lines=False , engine='python')"
      ],
      "metadata": {
        "colab": {
          "base_uri": "https://localhost:8080/"
        },
        "id": "nVngpNwvTDgP",
        "outputId": "520b9750-74f1-44ac-bbb8-32795eb09b93"
      },
      "execution_count": null,
      "outputs": [
        {
          "output_type": "stream",
          "name": "stdout",
          "text": [
            "Mounted at /content/drive\n"
          ]
        },
        {
          "output_type": "stream",
          "name": "stderr",
          "text": [
            "<ipython-input-3-cbbd317f2daa>:4: FutureWarning: The error_bad_lines argument has been deprecated and will be removed in a future version. Use on_bad_lines in the future.\n",
            "\n",
            "\n",
            "  df = pd.read_csv(\"/content/drive/MyDrive/dataset.csv\",delimiter=\";\",  error_bad_lines=False , engine='python')\n"
          ]
        }
      ]
    },
    {
      "cell_type": "code",
      "source": [
        "# Replace \"MOL\" and other non-numeric values with NaN\n",
        "df[\"QED Weighted\"] = pd.to_numeric(df[\"QED Weighted\"], errors=\"coerce\")\n",
        "\n",
        "# Drop rows with NaN values in the \"QED Weighted\" column\n",
        "df.dropna(subset=[\"QED Weighted\"], inplace=True)\n"
      ],
      "metadata": {
        "id": "fqNxTxZXuuA9"
      },
      "execution_count": null,
      "outputs": []
    },
    {
      "cell_type": "code",
      "source": [
        "# Drop rows with NaN values in the \"Smiles\" column\n",
        "df.dropna(subset=[\"Smiles\"], inplace=True)"
      ],
      "metadata": {
        "id": "AUP6E-uYvGfb"
      },
      "execution_count": null,
      "outputs": []
    },
    {
      "cell_type": "code",
      "source": [
        "df.dtypes"
      ],
      "metadata": {
        "id": "dpo3bvTmvO7G",
        "colab": {
          "base_uri": "https://localhost:8080/"
        },
        "outputId": "01efb036-6a9e-431c-ec54-fb8abb4e11f9"
      },
      "execution_count": null,
      "outputs": [
        {
          "output_type": "execute_result",
          "data": {
            "text/plain": [
              "ChEMBL ID                           object\n",
              "Name                                object\n",
              "Synonyms                            object\n",
              "Type                                object\n",
              "Max Phase                            int64\n",
              "Molecular Weight                   float64\n",
              "Targets                            float64\n",
              "Bioactivities                      float64\n",
              "AlogP                               object\n",
              "Polar Surface Area                  object\n",
              "HBA                                 object\n",
              "HBD                                 object\n",
              "#RO5 Violations                     object\n",
              "#Rotatable Bonds                    object\n",
              "Passes Ro3                          object\n",
              "QED Weighted                       float64\n",
              "CX Acidic pKa                       object\n",
              "CX Basic pKa                        object\n",
              "CX LogP                             object\n",
              "CX LogD                             object\n",
              "Aromatic Rings                      object\n",
              "Structure Type                      object\n",
              "Inorganic Flag                       int64\n",
              "Heavy Atoms                         object\n",
              "HBA (Lipinski)                      object\n",
              "HBD (Lipinski)                      object\n",
              "#RO5 Violations (Lipinski)          object\n",
              "Molecular Weight (Monoisotopic)     object\n",
              "Molecular Species                   object\n",
              "Molecular Formula                   object\n",
              "Smiles                              object\n",
              "dtype: object"
            ]
          },
          "metadata": {},
          "execution_count": 6
        }
      ]
    },
    {
      "cell_type": "code",
      "source": [
        "df.shape"
      ],
      "metadata": {
        "id": "0pnWwFCHvTew",
        "colab": {
          "base_uri": "https://localhost:8080/"
        },
        "outputId": "887236e8-061c-4117-eea7-11c30a022a64"
      },
      "execution_count": null,
      "outputs": [
        {
          "output_type": "execute_result",
          "data": {
            "text/plain": [
              "(1886235, 31)"
            ]
          },
          "metadata": {},
          "execution_count": 7
        }
      ]
    },
    {
      "cell_type": "code",
      "source": [
        "df=df.sample(1000000)"
      ],
      "metadata": {
        "id": "3sUMTyBhvZmp"
      },
      "execution_count": null,
      "outputs": []
    },
    {
      "cell_type": "code",
      "source": [
        "# Hyperparameters of the VAE random molecule generation model\n",
        "SMILE_CHARSET = '[\"C\", \"B\", \"F\", \"I\", \"H\", \"O\", \"N\", \"S\", \"P\", \"Cl\", \"Br\", \"K\", \"Na\", \"Li\",\"Ag\",\"Ca\",\"Zn\",\"Mg\",\"Sr\"]'\n",
        "\n",
        "bond_mapping = {\"SINGLE\": 0, \"DOUBLE\": 1, \"TRIPLE\": 2, \"AROMATIC\": 3}\n",
        "bond_mapping.update(\n",
        "    {0: BondType.SINGLE, 1: BondType.DOUBLE, 2: BondType.TRIPLE, 3: BondType.AROMATIC}\n",
        ")\n",
        "SMILE_CHARSET = ast.literal_eval(SMILE_CHARSET)\n",
        "\n",
        "MAX_MOLSIZE = max(df[\"Smiles\"].str.len())\n",
        "SMILE_to_index = dict((c, i) for i, c in enumerate(SMILE_CHARSET))\n",
        "index_to_SMILE = dict((i, c) for i, c in enumerate(SMILE_CHARSET))\n",
        "atom_mapping = dict(SMILE_to_index)\n",
        "atom_mapping.update(index_to_SMILE)\n",
        "\n",
        "BATCH_SIZE = 100\n",
        "EPOCHS = 10\n",
        "\n",
        "VAE_LR = 5e-4\n",
        "NUM_ATOMS = 120  # Maximum number of atoms\n",
        "\n",
        "ATOM_DIM = len(SMILE_CHARSET)  # Number of atom types\n",
        "BOND_DIM = 4 + 1  # Number of bond types\n",
        "LATENT_DIM = 435  # Size of the latent space\n",
        "\n",
        "\n",
        "def smiles_to_graph(smiles):\n",
        "    # Converts SMILES to molecule object\n",
        "    molecule = Chem.MolFromSmiles(smiles)\n",
        "\n",
        "    # Initialize adjacency and feature tensor\n",
        "    adjacency = np.zeros((BOND_DIM, NUM_ATOMS, NUM_ATOMS), \"float32\")\n",
        "    features = np.zeros((NUM_ATOMS, ATOM_DIM), \"float32\")\n",
        "\n",
        "    # loop over each atom in molecule\n",
        "    for atom in molecule.GetAtoms():\n",
        "        i = atom.GetIdx()\n",
        "        atom_type = atom_mapping[atom.GetSymbol()]\n",
        "        features[i] = np.eye(ATOM_DIM)[atom_type]\n",
        "        # loop over one-hop neighbors\n",
        "        for neighbor in atom.GetNeighbors():\n",
        "            j = neighbor.GetIdx()\n",
        "            bond = molecule.GetBondBetweenAtoms(i, j)\n",
        "            bond_type_idx = bond_mapping[bond.GetBondType().name]\n",
        "            adjacency[bond_type_idx, [i, j], [j, i]] = 1\n",
        "\n",
        "    # Where no bond, add 1 to last channel (indicating \"non-bond\")\n",
        "    # Notice: channels-first\n",
        "    adjacency[-1, np.sum(adjacency, axis=0) == 0] = 1\n",
        "\n",
        "    # Where no atom, add 1 to last column (indicating \"non-atom\")\n",
        "    features[np.where(np.sum(features, axis=1) == 0)[0], -1] = 1\n",
        "\n",
        "    return adjacency, features\n",
        "\n",
        "\n",
        "def graph_to_molecule(graph):\n",
        "    # Unpack graph\n",
        "    adjacency, features = graph\n",
        "\n",
        "    # RWMol is a molecule object intended to be edited\n",
        "    molecule = Chem.RWMol()\n",
        "\n",
        "    # Remove \"no atoms\" & atoms with no bonds\n",
        "    keep_idx = np.where(\n",
        "        (np.argmax(features, axis=1) != ATOM_DIM - 1)\n",
        "        & (np.sum(adjacency[:-1], axis=(0, 1)) != 0)\n",
        "    )[0]\n",
        "    features = features[keep_idx]\n",
        "    adjacency = adjacency[:, keep_idx, :][:, :, keep_idx]\n",
        "\n",
        "    # Add atoms to molecule\n",
        "    for atom_type_idx in np.argmax(features, axis=1):\n",
        "        atom = Chem.Atom(atom_mapping[atom_type_idx])\n",
        "        _ = molecule.AddAtom(atom)\n",
        "\n",
        "    # Add bonds between atoms in molecule; based on the upper triangles\n",
        "    # of the [symmetric] adjacency tensor\n",
        "    (bonds_ij, atoms_i, atoms_j) = np.where(np.triu(adjacency) == 1)\n",
        "    for (bond_ij, atom_i, atom_j) in zip(bonds_ij, atoms_i, atoms_j):\n",
        "        if atom_i == atom_j or bond_ij == BOND_DIM - 1:\n",
        "            continue\n",
        "        bond_type = bond_mapping[bond_ij]\n",
        "        molecule.AddBond(int(atom_i), int(atom_j), bond_type)\n",
        "\n",
        "    # Sanitize the molecule; for more information on sanitization, see\n",
        "    # https://www.rdkit.org/docs/RDKit_Book.html#molecular-sanitization\n",
        "    flag = Chem.SanitizeMol(molecule, catchErrors=True)\n",
        "    # Let's be strict. If sanitization fails, return None\n",
        "    if flag != Chem.SanitizeFlags.SANITIZE_NONE:\n",
        "        return None\n",
        "\n",
        "    return molecule"
      ],
      "metadata": {
        "id": "L0fjhNuiv20n"
      },
      "execution_count": null,
      "outputs": []
    },
    {
      "cell_type": "code",
      "source": [
        "# Implementing a convolution layer\n",
        "train_df = df.sample(frac=0.75, random_state=42)  # random state is a seed value\n",
        "train_df.reset_index(drop=True, inplace=True)\n",
        "\n",
        "adjacency_tensor, feature_tensor, qed_tensor = [], [], []\n",
        "for idx in range(8000):\n",
        "    adjacency, features = smiles_to_graph(train_df.loc[idx][\"Smiles\"])\n",
        "    qed = train_df.loc[idx][\"QED Weighted\"]\n",
        "    adjacency_tensor.append(adjacency)\n",
        "    feature_tensor.append(features)\n",
        "    qed_tensor.append(qed)\n",
        "\n",
        "adjacency_tensor = np.array(adjacency_tensor)\n",
        "feature_tensor = np.array(feature_tensor)\n",
        "qed_tensor = np.array(qed_tensor)\n",
        "\n",
        "\n",
        "class RelationalGraphConvLayer(keras.layers.Layer):\n",
        "    def __init__(\n",
        "        self,\n",
        "        units=128,\n",
        "        activation=\"relu\",\n",
        "        use_bias=False,\n",
        "        kernel_initializer=\"glorot_uniform\",\n",
        "        bias_initializer=\"zeros\",\n",
        "        kernel_regularizer=None,\n",
        "        bias_regularizer=None,\n",
        "        **kwargs\n",
        "    ):\n",
        "        super().__init__(**kwargs)\n",
        "\n",
        "        self.units = units\n",
        "        self.activation = keras.activations.get(activation)\n",
        "        self.use_bias = use_bias\n",
        "        self.kernel_initializer = keras.initializers.get(kernel_initializer)\n",
        "        self.bias_initializer = keras.initializers.get(bias_initializer)\n",
        "        self.kernel_regularizer = keras.regularizers.get(kernel_regularizer)\n",
        "        self.bias_regularizer = keras.regularizers.get(bias_regularizer)\n",
        "\n",
        "    def build(self, input_shape):\n",
        "        bond_dim = input_shape[0][1]\n",
        "        atom_dim = input_shape[1][2]\n",
        "\n",
        "        self.kernel = self.add_weight(\n",
        "            shape=(bond_dim, atom_dim, self.units),\n",
        "            initializer=self.kernel_initializer,\n",
        "            regularizer=self.kernel_regularizer,\n",
        "            trainable=True,\n",
        "            name=\"W\",\n",
        "            dtype=tf.float32,\n",
        "        )\n",
        "\n",
        "        if self.use_bias:\n",
        "            self.bias = self.add_weight(\n",
        "                shape=(bond_dim, 1, self.units),\n",
        "                initializer=self.bias_initializer,\n",
        "                regularizer=self.bias_regularizer,\n",
        "                trainable=True,\n",
        "                name=\"b\",\n",
        "                dtype=tf.float32,\n",
        "            )\n",
        "\n",
        "        self.built = True\n",
        "\n",
        "    def call(self, inputs, training=False):\n",
        "        adjacency, features = inputs\n",
        "        # Aggregate information from neighbors\n",
        "        x = tf.matmul(adjacency, features[:, None, :, :])\n",
        "        # Apply linear transformation\n",
        "        x = tf.matmul(x, self.kernel)\n",
        "        if self.use_bias:\n",
        "            x += self.bias\n",
        "        # Reduce bond types dim\n",
        "        x_reduced = tf.reduce_sum(x, axis=1)\n",
        "        # Apply non-linear transformation\n",
        "        return self.activation(x_reduced)"
      ],
      "metadata": {
        "id": "l82hc_yiwQBX"
      },
      "execution_count": null,
      "outputs": []
    },
    {
      "cell_type": "code",
      "source": [
        "# Encoding : takes an adjacency matrix and a feature matrix as input and produces two outputs: the mean and the logarithm of the variance of a Gaussian distribution\n",
        "def get_encoder(\n",
        "    gconv_units, latent_dim, adjacency_shape, feature_shape, dense_units, dropout_rate\n",
        "):\n",
        "    adjacency = keras.layers.Input(shape=adjacency_shape)\n",
        "    features = keras.layers.Input(shape=feature_shape)\n",
        "\n",
        "    # Propagate through one or more graph convolutional layers\n",
        "    features_transformed = features\n",
        "    for units in gconv_units:\n",
        "        features_transformed = RelationalGraphConvLayer(units)(\n",
        "            [adjacency, features_transformed]\n",
        "        )\n",
        "    # Reduce 2-D representation of molecule to 1-D\n",
        "    x = keras.layers.GlobalAveragePooling1D()(features_transformed)\n",
        "\n",
        "    # Propagate through one or more densely connected layers\n",
        "    for units in dense_units:\n",
        "        x = layers.Dense(units, activation=\"relu\")(x)\n",
        "        x = layers.Dropout(dropout_rate)(x)\n",
        "\n",
        "    z_mean = layers.Dense(latent_dim, dtype=\"float32\", name=\"z_mean\")(x)\n",
        "    log_var = layers.Dense(latent_dim, dtype=\"float32\", name=\"log_var\")(x)\n",
        "\n",
        "    encoder = keras.Model([adjacency, features], [z_mean, log_var], name=\"encoder\")\n",
        "\n",
        "    return encoder"
      ],
      "metadata": {
        "id": "lgtjD7hrwTem"
      },
      "execution_count": null,
      "outputs": []
    },
    {
      "cell_type": "code",
      "source": [
        "# Decoding : taking a latent representation (encoder output) as input and producing two outputs: an adjacency matrix (the relationships between different elements of a graph) and a probability distribution over the features\n",
        "def get_decoder(dense_units, dropout_rate, latent_dim, adjacency_shape, feature_shape):\n",
        "    latent_inputs = keras.Input(shape=(latent_dim,))\n",
        "\n",
        "    x = latent_inputs\n",
        "    for units in dense_units:\n",
        "        x = keras.layers.Dense(units, activation=\"tanh\")(x)\n",
        "        x = keras.layers.Dropout(dropout_rate)(x)\n",
        "\n",
        "    # Map outputs of previous layer (x) to [continuous] adjacency tensors (x_adjacency)\n",
        "    x_adjacency = keras.layers.Dense(tf.math.reduce_prod(adjacency_shape))(x)\n",
        "    x_adjacency = keras.layers.Reshape(adjacency_shape)(x_adjacency)\n",
        "    # Symmetrify tensors in the last two dimensions\n",
        "    x_adjacency = (x_adjacency + tf.transpose(x_adjacency, (0, 1, 3, 2))) / 2\n",
        "    x_adjacency = keras.layers.Softmax(axis=1)(x_adjacency)\n",
        "\n",
        "    # Map outputs of previous layer (x) to [continuous] feature tensors (x_features)\n",
        "    x_features = keras.layers.Dense(tf.math.reduce_prod(feature_shape))(x)\n",
        "    x_features = keras.layers.Reshape(feature_shape)(x_features)\n",
        "    x_features = keras.layers.Softmax(axis=2)(x_features)\n",
        "\n",
        "    decoder = keras.Model(\n",
        "        latent_inputs, outputs=[x_adjacency, x_features], name=\"decoder\"\n",
        "    )\n",
        "\n",
        "    return decoder"
      ],
      "metadata": {
        "id": "LqCn7Im1y7lM"
      },
      "execution_count": null,
      "outputs": []
    },
    {
      "cell_type": "code",
      "source": [
        "class Sampling(layers.Layer):\n",
        "    def call(self, inputs):\n",
        "        z_mean, z_log_var = inputs\n",
        "        batch = tf.shape(z_log_var)[0]\n",
        "        dim = tf.shape(z_log_var)[1]\n",
        "        epsilon = tf.keras.backend.random_normal(shape=(batch, dim))\n",
        "        return z_mean + tf.exp(0.5 * z_log_var) * epsilon"
      ],
      "metadata": {
        "id": "szl2msWIzBdW"
      },
      "execution_count": null,
      "outputs": []
    },
    {
      "cell_type": "code",
      "source": [
        "# VAE model: molecule generation\n",
        "class MoleculeGenerator(keras.Model):\n",
        "    def __init__(self, encoder, decoder, max_len, **kwargs):\n",
        "        super().__init__(**kwargs)\n",
        "        self.encoder = encoder\n",
        "        self.decoder = decoder\n",
        "        self.property_prediction_layer = layers.Dense(1)\n",
        "        self.max_len = max_len\n",
        "\n",
        "        self.train_total_loss_tracker = keras.metrics.Mean(name=\"train_total_loss\")\n",
        "        self.val_total_loss_tracker = keras.metrics.Mean(name=\"val_total_loss\")\n",
        "\n",
        "    def train_step(self, data):\n",
        "        adjacency_tensor, feature_tensor, qed_tensor = data[0]\n",
        "        graph_real = [adjacency_tensor, feature_tensor]\n",
        "        self.batch_size = tf.shape(qed_tensor)[0]\n",
        "        with tf.GradientTape() as tape:\n",
        "            z_mean, z_log_var, qed_pred, gen_adjacency, gen_features = self(\n",
        "                graph_real, training=True\n",
        "            )\n",
        "            graph_generated = [gen_adjacency, gen_features]\n",
        "            total_loss = self._compute_loss(\n",
        "                z_log_var, z_mean, qed_tensor, qed_pred, graph_real, graph_generated\n",
        "            )\n",
        "\n",
        "        grads = tape.gradient(total_loss, self.trainable_weights)\n",
        "        self.optimizer.apply_gradients(zip(grads, self.trainable_weights))\n",
        "\n",
        "        self.train_total_loss_tracker.update_state(total_loss)\n",
        "        return {\"loss\": self.train_total_loss_tracker.result()}\n",
        "\n",
        "    def _compute_loss(\n",
        "        self, z_log_var, z_mean, qed_true, qed_pred, graph_real, graph_generated\n",
        "    ):\n",
        "\n",
        "        adjacency_real, features_real = graph_real\n",
        "        adjacency_gen, features_gen = graph_generated\n",
        "\n",
        "        adjacency_loss = tf.reduce_mean(\n",
        "            tf.reduce_sum(\n",
        "                keras.losses.categorical_crossentropy(adjacency_real, adjacency_gen),\n",
        "                axis=(1, 2),\n",
        "            )\n",
        "        )\n",
        "        features_loss = tf.reduce_mean(\n",
        "            tf.reduce_sum(\n",
        "                keras.losses.categorical_crossentropy(features_real, features_gen),\n",
        "                axis=(1),\n",
        "            )\n",
        "        )\n",
        "        kl_loss = -0.5 * tf.reduce_sum(\n",
        "            1 + z_log_var - tf.square(z_mean) - tf.exp(z_log_var), 1\n",
        "        )\n",
        "        kl_loss = tf.reduce_mean(kl_loss)\n",
        "\n",
        "        property_loss = tf.reduce_mean(\n",
        "            keras.losses.binary_crossentropy(qed_true, qed_pred)\n",
        "        )\n",
        "\n",
        "        graph_loss = self._gradient_penalty(graph_real, graph_generated)\n",
        "\n",
        "        return kl_loss + property_loss + graph_loss + adjacency_loss + features_loss\n",
        "\n",
        "    def _gradient_penalty(self, graph_real, graph_generated):\n",
        "        # Unpack graphs\n",
        "        adjacency_real, features_real = graph_real\n",
        "        adjacency_generated, features_generated = graph_generated\n",
        "\n",
        "        # Generate interpolated graphs (adjacency_interp and features_interp)\n",
        "        alpha = tf.random.uniform([self.batch_size])\n",
        "        alpha = tf.reshape(alpha, (self.batch_size, 1, 1, 1))\n",
        "        adjacency_interp = (adjacency_real * alpha) + (1 - alpha) * adjacency_generated\n",
        "        alpha = tf.reshape(alpha, (self.batch_size, 1, 1))\n",
        "        features_interp = (features_real * alpha) + (1 - alpha) * features_generated\n",
        "\n",
        "        # Compute the logits of interpolated graphs\n",
        "        with tf.GradientTape() as tape:\n",
        "            tape.watch(adjacency_interp)\n",
        "            tape.watch(features_interp)\n",
        "            _, _, logits, _, _ = self(\n",
        "                [adjacency_interp, features_interp], training=True\n",
        "            )\n",
        "\n",
        "        # Compute the gradients with respect to the interpolated graphs\n",
        "        grads = tape.gradient(logits, [adjacency_interp, features_interp])\n",
        "        # Compute the gradient penalty\n",
        "        grads_adjacency_penalty = (1 - tf.norm(grads[0], axis=1)) ** 2\n",
        "        grads_features_penalty = (1 - tf.norm(grads[1], axis=2)) ** 2\n",
        "        return tf.reduce_mean(\n",
        "            tf.reduce_mean(grads_adjacency_penalty, axis=(-2, -1))\n",
        "            + tf.reduce_mean(grads_features_penalty, axis=(-1))\n",
        "        )\n",
        "\n",
        "    def inference(self, batch_size):\n",
        "        z = tf.random.normal((batch_size, LATENT_DIM))\n",
        "        reconstruction_adjacency, reconstruction_features = model.decoder.predict(z)\n",
        "        # obtain one-hot encoded adjacency tensor\n",
        "        adjacency = tf.argmax(reconstruction_adjacency, axis=1)\n",
        "        adjacency = tf.one_hot(adjacency, depth=BOND_DIM, axis=1)\n",
        "        # Remove potential self-loops from adjacency\n",
        "        adjacency = tf.linalg.set_diag(adjacency, tf.zeros(tf.shape(adjacency)[:-1]))\n",
        "        # obtain one-hot encoded feature tensor\n",
        "        features = tf.argmax(reconstruction_features, axis=2)\n",
        "        features = tf.one_hot(features, depth=ATOM_DIM, axis=2)\n",
        "        return [\n",
        "            graph_to_molecule([adjacency[i].numpy(), features[i].numpy()])\n",
        "            for i in range(batch_size)\n",
        "        ]\n",
        "\n",
        "    def call(self, inputs):\n",
        "        z_mean, log_var = self.encoder(inputs)\n",
        "        z = Sampling()([z_mean, log_var])\n",
        "\n",
        "        gen_adjacency, gen_features = self.decoder(z)\n",
        "\n",
        "        property_pred = self.property_prediction_layer(z_mean)\n",
        "\n",
        "        return z_mean, log_var, property_pred, gen_adjacency, gen_features"
      ],
      "metadata": {
        "id": "m-8ys7f7zOEW"
      },
      "execution_count": null,
      "outputs": []
    },
    {
      "cell_type": "code",
      "source": [
        "# Model training\n",
        "vae_optimizer = tf.keras.optimizers.Adam(learning_rate=VAE_LR)\n",
        "\n",
        "encoder = get_encoder(\n",
        "    gconv_units=[9],\n",
        "    adjacency_shape=(BOND_DIM, NUM_ATOMS, NUM_ATOMS),\n",
        "    feature_shape=(NUM_ATOMS, ATOM_DIM),\n",
        "    latent_dim=LATENT_DIM,\n",
        "    dense_units=[512],\n",
        "    dropout_rate=0.0,\n",
        ")\n",
        "decoder = get_decoder(\n",
        "    dense_units=[128, 256, 512],\n",
        "    dropout_rate=0.2,\n",
        "    latent_dim=LATENT_DIM,\n",
        "    adjacency_shape=(BOND_DIM, NUM_ATOMS, NUM_ATOMS),\n",
        "    feature_shape=(NUM_ATOMS, ATOM_DIM),\n",
        ")\n",
        "\n",
        "model = MoleculeGenerator(encoder, decoder, MAX_MOLSIZE)\n",
        "\n",
        "model.compile(vae_optimizer)\n",
        "history = model.fit([adjacency_tensor, feature_tensor, qed_tensor], epochs=EPOCHS)"
      ],
      "metadata": {
        "id": "Ccvn9NBCzeWk",
        "colab": {
          "base_uri": "https://localhost:8080/"
        },
        "outputId": "0e0ec757-0be6-45cd-94aa-7b8a63959a52"
      },
      "execution_count": null,
      "outputs": [
        {
          "output_type": "stream",
          "name": "stdout",
          "text": [
            "Epoch 1/10\n",
            "250/250 [==============================] - 258s 1s/step - loss: 68970.2569\n",
            "Epoch 2/10\n",
            "250/250 [==============================] - 252s 1s/step - loss: 68848.6984\n",
            "Epoch 3/10\n",
            "250/250 [==============================] - 251s 1s/step - loss: 68795.1565\n",
            "Epoch 4/10\n",
            "250/250 [==============================] - 253s 1s/step - loss: 68808.1225\n",
            "Epoch 5/10\n",
            "250/250 [==============================] - 252s 1s/step - loss: 68825.3946\n",
            "Epoch 6/10\n",
            "250/250 [==============================] - 253s 1s/step - loss: 68787.1822\n",
            "Epoch 7/10\n",
            "250/250 [==============================] - 252s 1s/step - loss: 68782.2728\n",
            "Epoch 8/10\n",
            "250/250 [==============================] - 254s 1s/step - loss: 68791.8891\n",
            "Epoch 9/10\n",
            "250/250 [==============================] - 252s 1s/step - loss: 68778.8049\n",
            "Epoch 10/10\n",
            "250/250 [==============================] - 252s 1s/step - loss: 68781.6041\n"
          ]
        }
      ]
    },
    {
      "cell_type": "code",
      "source": [
        "# Plot loss function\n",
        "plt.plot(history.history['loss'])\n",
        "plt.ylabel('Loss')\n",
        "plt.xlabel('epoch')\n",
        "plt.legend(['train'], loc='upper left')\n",
        "plt.show()"
      ],
      "metadata": {
        "colab": {
          "base_uri": "https://localhost:8080/",
          "height": 450
        },
        "id": "rSJLJPD_h7Q_",
        "outputId": "332e1e3c-92be-46dc-fb9e-4959fa5cee72"
      },
      "execution_count": null,
      "outputs": [
        {
          "output_type": "display_data",
          "data": {
            "text/plain": [
              "<Figure size 640x480 with 1 Axes>"
            ],
            "image/png": "[encoded data removed]"
          },
          "metadata": {}
        }
      ]
    },
    {
      "cell_type": "markdown",
      "source": [
        "Molecules generation"
      ],
      "metadata": {
        "id": "BDSJL4ZMDeKf"
      }
    },
    {
      "cell_type": "code",
      "source": [
        "mol_gen = model.inference(1000)\n",
        "\n",
        "MolsToGridImage(\n",
        "    [m for m in mol_gen if m is not None][:1000], molsPerRow=5, subImgSize=(260, 160)\n",
        ")"
      ],
      "metadata": {
        "id": "wvhgq-hb_Shi",
        "colab": {
          "base_uri": "https://localhost:8080/",
          "height": 170
        },
        "outputId": "f56aed8a-c5d8-4edb-f0d3-5f7935764de5"
      },
      "execution_count": null,
      "outputs": [
        {
          "output_type": "stream",
          "name": "stdout",
          "text": [
            "32/32 [==============================] - 5s 154ms/step\n"
          ]
        },
        {
          "output_type": "execute_result",
          "data": {
            "text/plain": [
              "<PIL.PngImagePlugin.PngImageFile image mode=RGB size=1300x160 at 0x7F7757D1C6D0>"
            ],
            "image/png": "[encoded data removed]"
          },
          "metadata": {},
          "execution_count": 184
        }
      ]
    },
    {
      "cell_type": "code",
      "source": [
        "from rdkit import Chem\n",
        "for m in mol_gen:\n",
        "  if m is not None:\n",
        "    smile=Chem.MolToSmiles(m)\n",
        "    print(smile)"
      ],
      "metadata": {
        "id": "whlFPpGuB10Z",
        "colab": {
          "base_uri": "https://localhost:8080/"
        },
        "outputId": "204a9b7f-c05b-42ea-860c-8dd2cafc2c94"
      },
      "execution_count": null,
      "outputs": [
        {
          "output_type": "stream",
          "name": "stdout",
          "text": [
            "C=C1C=C2C(C)=CS2(C)O1\n"
          ]
        }
      ]
    },
    {
      "cell_type": "markdown",
      "source": [
        "Check the chemical rules"
      ],
      "metadata": {
        "id": "XiQ6sI7ZDlh5"
      }
    },
    {
      "cell_type": "markdown",
      "source": [
        "Null molecules"
      ],
      "metadata": {
        "id": "ZOReCtBassGe"
      }
    },
    {
      "cell_type": "code",
      "source": [
        "# Eliminate null molecules\n",
        "new_mol_gen2 = []\n",
        "for m in mol_gen:\n",
        "  if m is not None:\n",
        "    new_mol_gen2.append(m)\n",
        "mol_gen = new_mol_gen2\n",
        "\n",
        "for m in mol_gen:\n",
        "  if m is not None:\n",
        "    smile=Chem.MolToSmiles(m)\n",
        "    print(smile)"
      ],
      "metadata": {
        "id": "M9FZOvARU5us",
        "colab": {
          "base_uri": "https://localhost:8080/"
        },
        "outputId": "785d689c-9e63-45bd-cc36-c350572fcfff"
      },
      "execution_count": null,
      "outputs": [
        {
          "output_type": "stream",
          "name": "stdout",
          "text": [
            "C#C.CC.CCC.CN.CO\n",
            "Oc1cccnc1\n",
            "O.c1c2c3cc-3c1-2\n",
            "CC.CC.CCC\n"
          ]
        }
      ]
    },
    {
      "cell_type": "code",
      "source": [
        "# Check if there are null molecules\n",
        "for m in mol_gen:\n",
        "  if m is None:\n",
        "      # Molecule is invalid\n",
        "      print(\"There is an invalid molecule\")"
      ],
      "metadata": {
        "id": "Ir_mBg7yrTSK"
      },
      "execution_count": null,
      "outputs": []
    },
    {
      "cell_type": "markdown",
      "source": [
        "Bonds and atoms"
      ],
      "metadata": {
        "id": "4D7-6EyNsa9a"
      }
    },
    {
      "cell_type": "code",
      "source": [
        "from rdkit import Chem\n",
        "new_mol_gen4 = []\n",
        "for m in mol_gen:\n",
        "  # Check the number of atoms and bonds\n",
        "  num_atoms = m.GetNumAtoms()\n",
        "  num_bonds = m.GetNumBonds()\n",
        "\n",
        "  if num_atoms > 2 and num_bonds > 1:\n",
        "      # The molecule has enough atoms and bonds to be valid\n",
        "      new_mol_gen4.append(m)\n",
        "mol_gen = new_mol_gen4"
      ],
      "metadata": {
        "id": "_CGiHEGOZhrw"
      },
      "execution_count": null,
      "outputs": []
    },
    {
      "cell_type": "markdown",
      "source": [
        "Byte rules"
      ],
      "metadata": {
        "id": "u-KySeAMpaCk"
      }
    },
    {
      "cell_type": "code",
      "source": [
        "from rdkit import Chem\n",
        "new_mol_gen5 = []\n",
        "for m in mol_gen:\n",
        "  # Check the octet rule for each atom\n",
        "  for atom in m.GetAtoms():\n",
        "      valence = atom.GetExplicitValence()\n",
        "      num_hydrogens = atom.GetTotalNumHs()\n",
        "      num_lone_pairs = atom.GetNumRadicalElectrons()\n",
        "\n",
        "      if valence + num_hydrogens + num_lone_pairs == atom.GetTotalValence():\n",
        "          # The atom respects the octet rule\n",
        "          new_mol_gen5.append(m)\n",
        "mol_gen = new_mol_gen5"
      ],
      "metadata": {
        "id": "TCn6zbZIcQp2"
      },
      "execution_count": null,
      "outputs": []
    },
    {
      "cell_type": "markdown",
      "source": [
        "Valence rule"
      ],
      "metadata": {
        "id": "c4eHjdE_tyeQ"
      }
    },
    {
      "cell_type": "code",
      "source": [
        "new_mol_gen6 = []\n",
        "for m in mol_gen:\n",
        "  # Checking the byte rule\n",
        "  for atom in m.GetAtoms():\n",
        "    if atom.GetTotalValence() <8:\n",
        "      new_mol_gen6.append(m)\n",
        "mol_gen = new_mol_gen6"
      ],
      "metadata": {
        "id": "u8KgO50WfRyy"
      },
      "execution_count": null,
      "outputs": []
    },
    {
      "cell_type": "markdown",
      "source": [
        "Formal charges"
      ],
      "metadata": {
        "id": "gb2f5LaspzcW"
      }
    },
    {
      "cell_type": "code",
      "source": [
        "from rdkit import Chem\n",
        "new_mol_gen7 = []\n",
        "test=0\n",
        "for m in mol_gen:\n",
        "\n",
        "  # Check the formal charges for each atom\n",
        "  for atom in m.GetAtoms():\n",
        "      formal_charge = atom.GetFormalCharge()\n",
        "      if formal_charge != 0:\n",
        "        # atom has a non-zero formal charge\n",
        "        test=1\n",
        "  if test==0:\n",
        "    new_mol_gen7.append(m)\n",
        "mol_gen = new_mol_gen7"
      ],
      "metadata": {
        "id": "UeU0U41Fd5JY"
      },
      "execution_count": null,
      "outputs": []
    },
    {
      "cell_type": "markdown",
      "source": [
        "Molecular geometry"
      ],
      "metadata": {
        "id": "Kdb1hlbVsL9N"
      }
    },
    {
      "cell_type": "code",
      "source": [
        "!pip install rdkit --upgrade"
      ],
      "metadata": {
        "id": "5ZIEqkDKde-w"
      },
      "execution_count": null,
      "outputs": []
    },
    {
      "cell_type": "code",
      "source": [
        "for m in mol_gen:\n",
        "  # Check molecular geometry\n",
        "  num_conformers = m.GetNumConformers()\n",
        "  if num_conformers > 0:\n",
        "    for conf_id in range(num_conformers):\n",
        "      conformer = m.GetConformer(conf_id)\n",
        "      for bond in m.GetBonds():\n",
        "        bond_length = conformer.GetDistance(bond.GetBeginAtomIdx(), bond.GetEndAtomIdx())\n",
        "        print(f\"Bond {bond.GetIdx()}: {bond_length:.2f} Angstroms\")\n",
        "  else:\n",
        "    print(\"Molecule has no conformers\")"
      ],
      "metadata": {
        "id": "umqm-Voum50W"
      },
      "execution_count": null,
      "outputs": []
    },
    {
      "cell_type": "markdown",
      "source": [
        "Stereochemistry"
      ],
      "metadata": {
        "id": "z2AFJUtXwk0U"
      }
    },
    {
      "cell_type": "code",
      "source": [
        "\n",
        "new_mol_gen = []\n",
        "for m in mol_gen:\n",
        "    # Check stereochemistry\n",
        "    m = Chem.Mol(m)\n",
        "    Chem.AssignStereochemistry(m, force=True, cleanIt=True, flagPossibleStereoCenters=True)\n",
        "    Chem.AssignAtomChiralTagsFromStructure(m, replaceExistingTags=True)\n",
        "    Chem.AssignStereochemistryFrom3D(m)\n",
        "    if Chem.FindMolChiralCenters(m, includeUnassigned=True):\n",
        "        new_mol_gen.append(m)\n",
        "\n",
        "mol_gen = new_mol_gen"
      ],
      "metadata": {
        "id": "IyrVb_INwLvK"
      },
      "execution_count": null,
      "outputs": []
    },
    {
      "cell_type": "markdown",
      "source": [
        "Oxidation number"
      ],
      "metadata": {
        "id": "iQZDOVnixZHf"
      }
    },
    {
      "cell_type": "code",
      "source": [
        "new_mol_gen9 = []\n",
        "test=0\n",
        "for m in mol_gen:\n",
        "  # Check oxidation number\n",
        "  Chem.AssignStereochemistryFrom3D(m)\n",
        "  for atom in m.GetAtoms():\n",
        "    if atom.GetFormalCharge() != atom.GetExplicitValence() - atom.GetNumExplicitHs() - atom.GetNumRadicalElectrons():\n",
        "      test=1\n",
        "  if test==0:\n",
        "    new_mol_gen9.append(m)\n",
        "mol_gen = new_mol_gen9"
      ],
      "metadata": {
        "id": "WHtrNau-wo09"
      },
      "execution_count": null,
      "outputs": []
    },
    {
      "cell_type": "markdown",
      "source": [
        "Atoms connectivity"
      ],
      "metadata": {
        "id": "yZC-FDwGyFa-"
      }
    },
    {
      "cell_type": "code",
      "source": [
        "new_mol_gen10 = []\n",
        "test=0\n",
        "for m in mol_gen:\n",
        "  # Check atoms connectivity\n",
        "  for atom in m.GetAtoms():\n",
        "    if len(atom.GetNeighbors()) != atom.GetExplicitValence():\n",
        "      test=1\n",
        "  if test==0:\n",
        "    new_mol_gen10.append(m)\n",
        "mol_gen = new_mol_gen10"
      ],
      "metadata": {
        "id": "RAqnJut1xqMg"
      },
      "execution_count": null,
      "outputs": []
    },
    {
      "cell_type": "markdown",
      "source": [
        "Bonds"
      ],
      "metadata": {
        "id": "7x2o1-k66Pq4"
      }
    },
    {
      "cell_type": "code",
      "source": [
        "new_mol_gen11 = []\n",
        "test=0\n",
        "for m in mol_gen:\n",
        "  # Check Bonds\n",
        "  for bond in m.GetBonds():\n",
        "    if bond.GetBondType() not in [Chem.BondType.SINGLE, Chem.BondType.DOUBLE, Chem.BondType.TRIPLE]:\n",
        "      test=1\n",
        "    if bond.GetStereo() not in [Chem.BondStereo.STEREOE, Chem.BondStereo.STEREOZ, Chem.BondStereo.STEREOCIS, Chem.BondStereo.STEREOTRANS, Chem.BondStereo.STEREOANY]:\n",
        "      test=1\n",
        "    if bond.GetBeginAtom().GetDegree() == 1 or bond.GetEndAtom().GetDegree() == 1:\n",
        "      test=1\n",
        "  if test==0:\n",
        "    new_mol_gen11.append(m)\n",
        "mol_gen = new_mol_gen11"
      ],
      "metadata": {
        "id": "JukMrzA651Lx"
      },
      "execution_count": null,
      "outputs": []
    },
    {
      "cell_type": "markdown",
      "source": [
        "Molar mass"
      ],
      "metadata": {
        "id": "Kn6qlt9S7ONG"
      }
    },
    {
      "cell_type": "code",
      "source": [
        "new_mol_gen12 = []\n",
        "for m in mol_gen:\n",
        "  # Check molar mass\n",
        "  molar_mass = Descriptors.MolWt(m)\n",
        "  if molar_mass > 0 or molar_mass < 1000:\n",
        "    new_mol_gen12.append(m)\n",
        "mol_gen = new_mol_gen12"
      ],
      "metadata": {
        "id": "mGzKgV-D65Be"
      },
      "execution_count": null,
      "outputs": []
    },
    {
      "cell_type": "markdown",
      "source": [
        "Isotopes"
      ],
      "metadata": {
        "id": "kP3M-T7g75WZ"
      }
    },
    {
      "cell_type": "code",
      "source": [
        "new_mol_gen13 = []\n",
        "test=0\n",
        "for m in mol_gen:\n",
        "  # Checking for the presence of isotopes\n",
        "  isotopes = [i for a in m.GetAtoms() for i in a.GetIsotopes() if i > 0]\n",
        "  if isotopes:\n",
        "    for isotope in isotopes:\n",
        "      relative_abundance = m.GetIsotopeFraction(isotope)\n",
        "      if relative_abundance < 0 or relative_abundance > 1:\n",
        "        test=1\n",
        "  if test==0:\n",
        "    new_mol_gen13.append(m)\n",
        "mol_gen = new_mol_gen13"
      ],
      "metadata": {
        "id": "IKNyWNvu7iAu"
      },
      "execution_count": null,
      "outputs": []
    },
    {
      "cell_type": "markdown",
      "source": [
        "Polarity"
      ],
      "metadata": {
        "id": "7cAAbV1Y9JX7"
      }
    },
    {
      "cell_type": "code",
      "source": [
        "new_mol_gen14 = []\n",
        "test=0\n",
        "for m in mol_gen:\n",
        "  # Check polarity\n",
        "  polar_atoms = [a for a in m.GetAtoms() if a.GetAtomicNum() in [7, 8, 9, 15, 16, 17, 35, 53]]\n",
        "  if len(polar_atoms) / m.GetNumAtoms() < 0.1:\n",
        "    test=1\n",
        "  if test==0:\n",
        "    new_mol_gen14.append(m)\n",
        "mol_gen = new_mol_gen14"
      ],
      "metadata": {
        "id": "JUuamdkW8c4D"
      },
      "execution_count": null,
      "outputs": []
    },
    {
      "cell_type": "markdown",
      "source": [
        "Solubility"
      ],
      "metadata": {
        "id": "uobQf-gO-vqF"
      }
    },
    {
      "cell_type": "code",
      "source": [
        "new_mol_gen15 = []\n",
        "test=0\n",
        "for m in mol_gen:\n",
        "  # Calcul (logP)\n",
        "  from rdkit.Chem import Crippen\n",
        "  logP = Crippen.MolLogP(m)\n",
        "  # Check solubility\n",
        "  if logP < -2:\n",
        "    test=1\n",
        "  if test==0:\n",
        "    new_mol_gen15.append(m)\n",
        "mol_gen = new_mol_gen15"
      ],
      "metadata": {
        "id": "ovKpgojB9L47"
      },
      "execution_count": null,
      "outputs": []
    },
    {
      "cell_type": "markdown",
      "source": [
        "Tanimoto comparison"
      ],
      "metadata": {
        "id": "2SI0qDGLjDfo"
      }
    },
    {
      "cell_type": "code",
      "source": [
        "db=df.sample(100)"
      ],
      "metadata": {
        "id": "TBAj5WQieR-2"
      },
      "execution_count": null,
      "outputs": []
    },
    {
      "cell_type": "code",
      "source": [
        "from rdkit.Chem import PandasTools\n",
        "PandasTools.AddMoleculeColumnToFrame(db,'Smiles', 'Structure')\n",
        "db.head(5)"
      ],
      "metadata": {
        "id": "NebtKMz5vMtD",
        "colab": {
          "base_uri": "https://localhost:8080/",
          "height": 438
        },
        "outputId": "845533f0-8db5-48eb-b970-0431972cbdc0"
      },
      "execution_count": null,
      "outputs": [
        {
          "output_type": "execute_result",
          "data": {
            "text/plain": [
              "             ChEMBL ID Name Synonyms            Type  Max Phase  \\\n",
              "1731049   CHEMBL294097  NaN      NaN  Small molecule          0   \n",
              "432483   CHEMBL1593704  NaN      NaN  Small molecule          0   \n",
              "1918097  CHEMBL3400208  NaN      NaN  Small molecule          0   \n",
              "691386   CHEMBL1629978  NaN      NaN  Small molecule          0   \n",
              "442572   CHEMBL2296342  NaN      NaN  Small molecule          0   \n",
              "\n",
              "         Molecular Weight  Targets  Bioactivities AlogP Polar Surface Area  \\\n",
              "1731049            546.69      3.0            4.0  5.62              84.94   \n",
              "432483             448.43      3.0            3.0  2.81             105.02   \n",
              "1918097            438.62      1.0            1.0  6.27              32.34   \n",
              "691386             411.44      1.0            1.0  3.61             124.56   \n",
              "442572             370.41      8.0           18.0  5.84              78.84   \n",
              "\n",
              "         ... Inorganic Flag Heavy Atoms HBA (Lipinski) HBD (Lipinski)  \\\n",
              "1731049  ...             -1          39              7              1   \n",
              "432483   ...             -1          32              9              1   \n",
              "1918097  ...             -1          33              3              1   \n",
              "691386   ...             -1          29              8              3   \n",
              "442572   ...             -1          28              6              2   \n",
              "\n",
              "        #RO5 Violations (Lipinski)  Molecular Weight (Monoisotopic)  \\\n",
              "1731049                          2                         546.2188   \n",
              "432483                           0                         448.1558   \n",
              "1918097                          1                         438.2671   \n",
              "691386                           0                         411.0889   \n",
              "442572                           1                         370.1430   \n",
              "\n",
              "        Molecular Species Molecular Formula  \\\n",
              "1731049           NEUTRAL       C31H34N2O5S   \n",
              "432483            NEUTRAL      C21H22F2N4O5   \n",
              "1918097              BASE         C30H34N2O   \n",
              "691386            NEUTRAL       C20H17N3O5S   \n",
              "442572            NEUTRAL        C22H18N4O2   \n",
              "\n",
              "                                                    Smiles  \\\n",
              "1731049  CC(C)(C)OC(=O)N[C@@H](Cc1ccc(OCc2ccccc2)cc1)C(...   \n",
              "432483   CCN(CC(=O)Nc1c(F)cccc1F)C(=O)c1cc([N+](=O)[O-]...   \n",
              "1918097  O=C([C@@H]1C[C@H]1c1ccccc1)N(CCNCC1CCCC1)c1ccc...   \n",
              "691386   COc1ccc(C(=O)Nc2sc(Cc3ccccc3)cc2C(N)=O)cc1[N+]...   \n",
              "442572     COc1ccccc1NC(=O)c1ccc(/N=N\\c2c[nH]c3ccccc23)cc1   \n",
              "\n",
              "                                                 Structure  \n",
              "1731049  <img data-content=\"rdkit/molecule\" src=\"data:i...  \n",
              "432483   <img data-content=\"rdkit/molecule\" src=\"data:i...  \n",
              "1918097  <img data-content=\"rdkit/molecule\" src=\"data:i...  \n",
              "691386   <img data-content=\"rdkit/molecule\" src=\"data:i...  \n",
              "442572   <img data-content=\"rdkit/molecule\" src=\"data:i...  \n",
              "\n",
              "[5 rows x 32 columns]"
            ],
            "text/html": [
              "\n",
              "  <div id=\"df-bc59aff8-d73e-42d4-b227-142650ec8c01\">\n",
              "    <div class=\"colab-df-container\">\n",
              "      <div>\n",
              "<style scoped>\n",
              "    .dataframe tbody tr th:only-of-type {\n",
              "        vertical-align: middle;\n",
              "    }\n",
              "\n",
              "    .dataframe tbody tr th {\n",
              "        vertical-align: top;\n",
              "    }\n",
              "\n",
              "    .dataframe thead th {\n",
              "        text-align: right;\n",
              "    }\n",
              "</style>\n",
              "<table border=\"1\" class=\"dataframe\">\n",
              "  <thead>\n",
              "    <tr style=\"text-align: right;\">\n",
              "      <th></th>\n",
              "      <th>ChEMBL ID</th>\n",
              "      <th>Name</th>\n",
              "      <th>Synonyms</th>\n",
              "      <th>Type</th>\n",
              "      <th>Max Phase</th>\n",
              "      <th>Molecular Weight</th>\n",
              "      <th>Targets</th>\n",
              "      <th>Bioactivities</th>\n",
              "      <th>AlogP</th>\n",
              "      <th>Polar Surface Area</th>\n",
              "      <th>...</th>\n",
              "      <th>Inorganic Flag</th>\n",
              "      <th>Heavy Atoms</th>\n",
              "      <th>HBA (Lipinski)</th>\n",
              "      <th>HBD (Lipinski)</th>\n",
              "      <th>#RO5 Violations (Lipinski)</th>\n",
              "      <th>Molecular Weight (Monoisotopic)</th>\n",
              "      <th>Molecular Species</th>\n",
              "      <th>Molecular Formula</th>\n",
              "      <th>Smiles</th>\n",
              "      <th>Structure</th>\n",
              "    </tr>\n",
              "  </thead>\n",
              "  <tbody>\n",
              "    <tr>\n",
              "      <th>1731049</th>\n",
              "      <td>CHEMBL294097</td>\n",
              "      <td>NaN</td>\n",
              "      <td>NaN</td>\n",
              "      <td>Small molecule</td>\n",
              "      <td>0</td>\n",
              "      <td>546.69</td>\n",
              "      <td>3.0</td>\n",
              "      <td>4.0</td>\n",
              "      <td>5.62</td>\n",
              "      <td>84.94</td>\n",
              "      <td>...</td>\n",
              "      <td>-1</td>\n",
              "      <td>39</td>\n",
              "      <td>7</td>\n",
              "      <td>1</td>\n",
              "      <td>2</td>\n",
              "      <td>546.2188</td>\n",
              "      <td>NEUTRAL</td>\n",
              "      <td>C31H34N2O5S</td>\n",
              "      <td>CC(C)(C)OC(=O)N[C@@H](Cc1ccc(OCc2ccccc2)cc1)C(...</td>\n",
              "      <td>&lt;img data-content=\"rdkit/molecule\" src=\"data:image/png;base64,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\" alt=\"Mol\"/&gt;</td>\n",
              "    </tr>\n",
              "    <tr>\n",
              "      <th>432483</th>\n",
              "      <td>CHEMBL1593704</td>\n",
              "      <td>NaN</td>\n",
              "      <td>NaN</td>\n",
              "      <td>Small molecule</td>\n",
              "      <td>0</td>\n",
              "      <td>448.43</td>\n",
              "      <td>3.0</td>\n",
              "      <td>3.0</td>\n",
              "      <td>2.81</td>\n",
              "      <td>105.02</td>\n",
              "      <td>...</td>\n",
              "      <td>-1</td>\n",
              "      <td>32</td>\n",
              "      <td>9</td>\n",
              "      <td>1</td>\n",
              "      <td>0</td>\n",
              "      <td>448.1558</td>\n",
              "      <td>NEUTRAL</td>\n",
              "      <td>C21H22F2N4O5</td>\n",
              "      <td>CCN(CC(=O)Nc1c(F)cccc1F)C(=O)c1cc([N+](=O)[O-]...</td>\n",
              "      <td>&lt;img data-content=\"rdkit/molecule\" src=\"data:image/png;base64,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\" alt=\"Mol\"/&gt;</td>\n",
              "    </tr>\n",
              "    <tr>\n",
              "      <th>1918097</th>\n",
              "      <td>CHEMBL3400208</td>\n",
              "      <td>NaN</td>\n",
              "      <td>NaN</td>\n",
              "      <td>Small molecule</td>\n",
              "      <td>0</td>\n",
              "      <td>438.62</td>\n",
              "      <td>1.0</td>\n",
              "      <td>1.0</td>\n",
              "      <td>6.27</td>\n",
              "      <td>32.34</td>\n",
              "      <td>...</td>\n",
              "      <td>-1</td>\n",
              "      <td>33</td>\n",
              "      <td>3</td>\n",
              "      <td>1</td>\n",
              "      <td>1</td>\n",
              "      <td>438.2671</td>\n",
              "      <td>BASE</td>\n",
              "      <td>C30H34N2O</td>\n",
              "      <td>O=C([C@@H]1C[C@H]1c1ccccc1)N(CCNCC1CCCC1)c1ccc...</td>\n",
              "      <td>&lt;img data-content=\"rdkit/molecule\" src=\"data:image/png;base64,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\" alt=\"Mol\"/&gt;</td>\n",
              "    </tr>\n",
              "    <tr>\n",
              "      <th>691386</th>\n",
              "      <td>CHEMBL1629978</td>\n",
              "      <td>NaN</td>\n",
              "      <td>NaN</td>\n",
              "      <td>Small molecule</td>\n",
              "      <td>0</td>\n",
              "      <td>411.44</td>\n",
              "      <td>1.0</td>\n",
              "      <td>1.0</td>\n",
              "      <td>3.61</td>\n",
              "      <td>124.56</td>\n",
              "      <td>...</td>\n",
              "      <td>-1</td>\n",
              "      <td>29</td>\n",
              "      <td>8</td>\n",
              "      <td>3</td>\n",
              "      <td>0</td>\n",
              "      <td>411.0889</td>\n",
              "      <td>NEUTRAL</td>\n",
              "      <td>C20H17N3O5S</td>\n",
              "      <td>COc1ccc(C(=O)Nc2sc(Cc3ccccc3)cc2C(N)=O)cc1[N+]...</td>\n",
              "      <td>&lt;img data-content=\"rdkit/molecule\" src=\"data:image/png;base64,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\" alt=\"Mol\"/&gt;</td>\n",
              "    </tr>\n",
              "    <tr>\n",
              "      <th>442572</th>\n",
              "      <td>CHEMBL2296342</td>\n",
              "      <td>NaN</td>\n",
              "      <td>NaN</td>\n",
              "      <td>Small molecule</td>\n",
              "      <td>0</td>\n",
              "      <td>370.41</td>\n",
              "      <td>8.0</td>\n",
              "      <td>18.0</td>\n",
              "      <td>5.84</td>\n",
              "      <td>78.84</td>\n",
              "      <td>...</td>\n",
              "      <td>-1</td>\n",
              "      <td>28</td>\n",
              "      <td>6</td>\n",
              "      <td>2</td>\n",
              "      <td>1</td>\n",
              "      <td>370.1430</td>\n",
              "      <td>NEUTRAL</td>\n",
              "      <td>C22H18N4O2</td>\n",
              "      <td>COc1ccccc1NC(=O)c1ccc(/N=N\\c2c[nH]c3ccccc23)cc1</td>\n",
              "      <td>&lt;img data-content=\"rdkit/molecule\" src=\"data:image/png;base64,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\" alt=\"Mol\"/&gt;</td>\n",
              "    </tr>\n",
              "  </tbody>\n",
              "</table>\n",
              "<p>5 rows × 32 columns</p>\n",
              "</div>\n",
              "      <button class=\"colab-df-convert\" onclick=\"convertToInteractive('df-bc59aff8-d73e-42d4-b227-142650ec8c01')\"\n",
              "              title=\"Convert this dataframe to an interactive table.\"\n",
              "              style=\"display:none;\">\n",
              "        \n",
              "  <svg xmlns=\"http://www.w3.org/2000/svg\" height=\"24px\"viewBox=\"0 0 24 24\"\n",
              "       width=\"24px\">\n",
              "    <path d=\"M0 0h24v24H0V0z\" fill=\"none\"/>\n",
              "    <path d=\"M18.56 5.44l.94 2.06.94-2.06 2.06-.94-2.06-.94-.94-2.06-.94 2.06-2.06.94zm-11 1L8.5 8.5l.94-2.06 2.06-.94-2.06-.94L8.5 2.5l-.94 2.06-2.06.94zm10 10l.94 2.06.94-2.06 2.06-.94-2.06-.94-.94-2.06-.94 2.06-2.06.94z\"/><path d=\"M17.41 7.96l-1.37-1.37c-.4-.4-.92-.59-1.43-.59-.52 0-1.04.2-1.43.59L10.3 9.45l-7.72 7.72c-.78.78-.78 2.05 0 2.83L4 21.41c.39.39.9.59 1.41.59.51 0 1.02-.2 1.41-.59l7.78-7.78 2.81-2.81c.8-.78.8-2.07 0-2.86zM5.41 20L4 18.59l7.72-7.72 1.47 1.35L5.41 20z\"/>\n",
              "  </svg>\n",
              "      </button>\n",
              "      \n",
              "  <style>\n",
              "    .colab-df-container {\n",
              "      display:flex;\n",
              "      flex-wrap:wrap;\n",
              "      gap: 12px;\n",
              "    }\n",
              "\n",
              "    .colab-df-convert {\n",
              "      background-color: #E8F0FE;\n",
              "      border: none;\n",
              "      border-radius: 50%;\n",
              "      cursor: pointer;\n",
              "      display: none;\n",
              "      fill: #1967D2;\n",
              "      height: 32px;\n",
              "      padding: 0 0 0 0;\n",
              "      width: 32px;\n",
              "    }\n",
              "\n",
              "    .colab-df-convert:hover {\n",
              "      background-color: #E2EBFA;\n",
              "      box-shadow: 0px 1px 2px rgba(60, 64, 67, 0.3), 0px 1px 3px 1px rgba(60, 64, 67, 0.15);\n",
              "      fill: #174EA6;\n",
              "    }\n",
              "\n",
              "    [theme=dark] .colab-df-convert {\n",
              "      background-color: #3B4455;\n",
              "      fill: #D2E3FC;\n",
              "    }\n",
              "\n",
              "    [theme=dark] .colab-df-convert:hover {\n",
              "      background-color: #434B5C;\n",
              "      box-shadow: 0px 1px 3px 1px rgba(0, 0, 0, 0.15);\n",
              "      filter: drop-shadow(0px 1px 2px rgba(0, 0, 0, 0.3));\n",
              "      fill: #FFFFFF;\n",
              "    }\n",
              "  </style>\n",
              "\n",
              "      <script>\n",
              "        const buttonEl =\n",
              "          document.querySelector('#df-bc59aff8-d73e-42d4-b227-142650ec8c01 button.colab-df-convert');\n",
              "        buttonEl.style.display =\n",
              "          google.colab.kernel.accessAllowed ? 'block' : 'none';\n",
              "\n",
              "        async function convertToInteractive(key) {\n",
              "          const element = document.querySelector('#df-bc59aff8-d73e-42d4-b227-142650ec8c01');\n",
              "          const dataTable =\n",
              "            await google.colab.kernel.invokeFunction('convertToInteractive',\n",
              "                                                     [key], {});\n",
              "          if (!dataTable) return;\n",
              "\n",
              "          const docLinkHtml = 'Like what you see? Visit the ' +\n",
              "            '<a target=\"_blank\" href=https://colab.research.google.com/notebooks/data_table.ipynb>data table notebook</a>'\n",
              "            + ' to learn more about interactive tables.';\n",
              "          element.innerHTML = '';\n",
              "          dataTable['output_type'] = 'display_data';\n",
              "          await google.colab.output.renderOutput(dataTable, element);\n",
              "          const docLink = document.createElement('div');\n",
              "          docLink.innerHTML = docLinkHtml;\n",
              "          element.appendChild(docLink);\n",
              "        }\n",
              "      </script>\n",
              "    </div>\n",
              "  </div>\n",
              "  "
            ]
          },
          "metadata": {},
          "execution_count": 101
        }
      ]
    },
    {
      "cell_type": "code",
      "source": [
        "# Let us find compounds similar to mol_gen[0]\n",
        "query=mol_gen[2]\n",
        "query_fps = AllChem.GetMorganFingerprintAsBitVect(query, 2, nBits=4096)\n",
        "query\n"
      ],
      "metadata": {
        "id": "HBiWPpsEhTPG",
        "colab": {
          "base_uri": "https://localhost:8080/"
        },
        "outputId": "0fd94be8-12e0-4bd8-974c-1251eac64ace"
      },
      "execution_count": null,
      "outputs": [
        {
          "output_type": "execute_result",
          "data": {
            "text/plain": [
              "<rdkit.Chem.rdchem.RWMol at 0x7f775b28f4c0>"
            ]
          },
          "metadata": {},
          "execution_count": 102
        }
      ]
    },
    {
      "cell_type": "code",
      "source": [
        "# Calculate the fingerprints of all the compounds\n",
        "all_Mfpts = [AllChem.GetMorganFingerprintAsBitVect(mol, 2, nBits=4096) for mol in db.Structure]\n"
      ],
      "metadata": {
        "id": "KgWAYjRmiPtb"
      },
      "execution_count": null,
      "outputs": []
    },
    {
      "cell_type": "code",
      "source": [
        "from rdkit import DataStructs\n",
        "# Calculate Tanimoto coefficient of the query compound against each of the compounds in the dataset\n",
        "# Put them in the list\n",
        "Tanimoto_similarity = [DataStructs.FingerprintSimilarity(query_fps, x, metric=DataStructs.TanimotoSimilarity) for x in all_Mfpts]\n"
      ],
      "metadata": {
        "id": "YbBHYR0MiSLS"
      },
      "execution_count": null,
      "outputs": []
    },
    {
      "cell_type": "code",
      "source": [
        "Tanimoto_similarity\n",
        "# Similar if value >=0,7"
      ],
      "metadata": {
        "id": "CyvKQ1lgyY0X",
        "colab": {
          "base_uri": "https://localhost:8080/"
        },
        "outputId": "22191f08-f90e-47d1-a1ee-374f952b61d9"
      },
      "execution_count": null,
      "outputs": [
        {
          "output_type": "execute_result",
          "data": {
            "text/plain": [
              "[0.029850746268656716,\n",
              " 0.047619047619047616,\n",
              " 0.038461538461538464,\n",
              " 0.05084745762711865,\n",
              " 0.038461538461538464,\n",
              " 0.03225806451612903,\n",
              " 0.05084745762711865,\n",
              " 0.05660377358490566,\n",
              " 0.06349206349206349,\n",
              " 0.04477611940298507,\n",
              " 0.038461538461538464,\n",
              " 0.061224489795918366,\n",
              " 0.019230769230769232,\n",
              " 0.05,\n",
              " 0.043478260869565216,\n",
              " 0.029411764705882353,\n",
              " 0.075,\n",
              " 0.018867924528301886,\n",
              " 0.05194805194805195,\n",
              " 0.0967741935483871,\n",
              " 0.05172413793103448,\n",
              " 0.06557377049180328,\n",
              " 0.04,\n",
              " 0.06818181818181818,\n",
              " 0.0625,\n",
              " 0.030303030303030304,\n",
              " 0.056338028169014086,\n",
              " 0.04,\n",
              " 0.046153846153846156,\n",
              " 0.04918032786885246,\n",
              " 0.043478260869565216,\n",
              " 0.02564102564102564,\n",
              " 0.02197802197802198,\n",
              " 0.0,\n",
              " 0.03278688524590164,\n",
              " 0.1111111111111111,\n",
              " 0.06557377049180328,\n",
              " 0.05714285714285714,\n",
              " 0.06557377049180328,\n",
              " 0.04,\n",
              " 0.05714285714285714,\n",
              " 0.045454545454545456,\n",
              " 0.03389830508474576,\n",
              " 0.05454545454545454,\n",
              " 0.046511627906976744,\n",
              " 0.05263157894736842,\n",
              " 0.05357142857142857,\n",
              " 0.04285714285714286,\n",
              " 0.07692307692307693,\n",
              " 0.03333333333333333,\n",
              " 0.02564102564102564,\n",
              " 0.05,\n",
              " 0.047619047619047616,\n",
              " 0.038461538461538464,\n",
              " 0.02631578947368421,\n",
              " 0.05172413793103448,\n",
              " 0.02631578947368421,\n",
              " 0.03333333333333333,\n",
              " 0.029411764705882353,\n",
              " 0.05,\n",
              " 0.05084745762711865,\n",
              " 0.06,\n",
              " 0.03333333333333333,\n",
              " 0.125,\n",
              " 0.017857142857142856,\n",
              " 0.043478260869565216,\n",
              " 0.02857142857142857,\n",
              " 0.038461538461538464,\n",
              " 0.046511627906976744,\n",
              " 0.06666666666666667,\n",
              " 0.030303030303030304,\n",
              " 0.05357142857142857,\n",
              " 0.02564102564102564,\n",
              " 0.04285714285714286,\n",
              " 0.057692307692307696,\n",
              " 0.06,\n",
              " 0.0392156862745098,\n",
              " 0.021739130434782608,\n",
              " 0.075,\n",
              " 0.04285714285714286,\n",
              " 0.03278688524590164,\n",
              " 0.037037037037037035,\n",
              " 0.06818181818181818,\n",
              " 0.06666666666666667,\n",
              " 0.06666666666666667,\n",
              " 0.0392156862745098,\n",
              " 0.0625,\n",
              " 0.06153846153846154,\n",
              " 0.061224489795918366,\n",
              " 0.038461538461538464,\n",
              " 0.04918032786885246,\n",
              " 0.05714285714285714,\n",
              " 0.03571428571428571,\n",
              " 0.05454545454545454,\n",
              " 0.0851063829787234,\n",
              " 0.0410958904109589,\n",
              " 0.03636363636363636,\n",
              " 0.034482758620689655,\n",
              " 0.03773584905660377,\n",
              " 0.0967741935483871]"
            ]
          },
          "metadata": {},
          "execution_count": 105
        }
      ]
    },
    {
      "cell_type": "code",
      "source": [
        "# Put the Tanimoto coefficient values into data frame.\n",
        "db[\"tanimoto_values\"] = Tanimoto_similarity\n"
      ],
      "metadata": {
        "id": "ipXQ2n3aiUTw"
      },
      "execution_count": null,
      "outputs": []
    },
    {
      "cell_type": "code",
      "source": [
        "\n",
        "# Sort Tanimoto coefficient values in decreasing order\n",
        "dataset_sorted = db.sort_values(['tanimoto_values'],ascending=False)\n"
      ],
      "metadata": {
        "id": "pVuBFmPhiWvx"
      },
      "execution_count": null,
      "outputs": []
    },
    {
      "cell_type": "code",
      "source": [
        "# Show the dataframe\n",
        "dataset_sorted.drop('Structure', axis=1, inplace=True)\n",
        "dataset_sorted"
      ],
      "metadata": {
        "id": "-lxsup0VgmKz",
        "colab": {
          "base_uri": "https://localhost:8080/",
          "height": 696
        },
        "outputId": "050531b9-a5eb-42e1-e0a2-b8343cae6f89"
      },
      "execution_count": null,
      "outputs": [
        {
          "output_type": "execute_result",
          "data": {
            "text/plain": [
              "             ChEMBL ID Name Synonyms            Type  Max Phase  \\\n",
              "863654   CHEMBL4281929  NaN      NaN  Small molecule          0   \n",
              "289034     CHEMBL98256  NaN      NaN  Small molecule          0   \n",
              "517765   CHEMBL1884707  NaN      NaN  Small molecule          0   \n",
              "1176332  CHEMBL1569383  NaN      NaN  Small molecule          0   \n",
              "1305326  CHEMBL3687967  NaN      NaN  Small molecule          0   \n",
              "...                ...  ...      ...             ...        ...   \n",
              "1126723  CHEMBL1459906  NaN      NaN  Small molecule          0   \n",
              "915657   CHEMBL1396745  NaN      NaN  Small molecule          0   \n",
              "1092265  CHEMBL3274609  NaN      NaN  Small molecule          0   \n",
              "1214354  CHEMBL3503839  NaN      NaN  Small molecule          0   \n",
              "1235414  CHEMBL3465920  NaN      NaN  Small molecule          0   \n",
              "\n",
              "         Molecular Weight  Targets  Bioactivities AlogP Polar Surface Area  \\\n",
              "863654             384.34      7.0            7.0  2.50              74.76   \n",
              "289034             271.10      6.0            6.0  3.91              48.07   \n",
              "517765             181.24      2.0            3.0  1.26              63.81   \n",
              "1176332            226.71     13.0           15.0  3.11              24.39   \n",
              "1305326            297.27      1.0            1.0  3.32              91.29   \n",
              "...                   ...      ...            ...   ...                ...   \n",
              "1126723            299.40      3.0            4.0  1.64              99.77   \n",
              "915657             347.50      7.0            8.0  4.79              58.89   \n",
              "1092265            359.53      2.0            5.0  3.64              77.84   \n",
              "1214354            518.41     10.0           18.0  0.62              50.60   \n",
              "1235414            261.39     13.0           22.0  2.06              63.24   \n",
              "\n",
              "         ... Inorganic Flag Heavy Atoms HBA (Lipinski) HBD (Lipinski)  \\\n",
              "863654   ...             -1          28              6              0   \n",
              "289034   ...             -1          17              4              0   \n",
              "517765   ...             -1          13              4              3   \n",
              "1176332  ...             -1          13              2              1   \n",
              "1305326  ...             -1          22              7              0   \n",
              "...      ...            ...         ...            ...            ...   \n",
              "1126723  ...             -1          20              7              3   \n",
              "915657   ...             -1          25              4              1   \n",
              "1092265  ...             -1          24              5              2   \n",
              "1214354  ...             -1          21              6              0   \n",
              "1235414  ...             -1          17              4              1   \n",
              "\n",
              "        #RO5 Violations (Lipinski)  Molecular Weight (Monoisotopic)  \\\n",
              "863654                           0                         384.0922   \n",
              "289034                           0                         269.9963   \n",
              "517765                           0                         181.1215   \n",
              "1176332                          0                         172.1000   \n",
              "1305326                          0                         297.0750   \n",
              "...                            ...                              ...   \n",
              "1126723                          0                         299.1416   \n",
              "915657                           0                         347.2460   \n",
              "1092265                          0                         359.2130   \n",
              "1214354                          0                         290.1743   \n",
              "1235414                          0                         261.1399   \n",
              "\n",
              "        Molecular Species Molecular Formula  \\\n",
              "863654            NEUTRAL      C20H14F2N2O4   \n",
              "289034               None      C11H8Cl2N2O2   \n",
              "517765            NEUTRAL          C9H15N3O   \n",
              "1176332              BASE       C11H15ClN2O   \n",
              "1305326           NEUTRAL        C15H11N3O4   \n",
              "...                   ...               ...   \n",
              "1126723           NEUTRAL       C12H21N5O2S   \n",
              "915657            NEUTRAL         C21H33NO3   \n",
              "1092265              ACID        C18H33NO4S   \n",
              "1214354           NEUTRAL      C19H24F6N4O6   \n",
              "1235414              ACID        C12H23NO3S   \n",
              "\n",
              "                                                    Smiles tanimoto_values  \n",
              "863654   O=C1C(=O)N(CCCCN2C(=O)C(=O)c3cc(F)ccc32)c2ccc(...        0.125000  \n",
              "289034             Cn1cc(-c2ccc(Cl)cc2Cl)c([N+](=O)[O-])c1        0.111111  \n",
              "517765                             Nc1cc(=O)[nH]n1C1CCCCC1        0.096774  \n",
              "1176332                         CC1=CC(C)=Nc2ccccc2N1.Cl.O        0.096774  \n",
              "1305326        COc1ccccc1-c1nc(-c2cccc([N+](=O)[O-])c2)no1        0.085106  \n",
              "...                                                    ...             ...  \n",
              "1126723            CC(C)c1n[nH]c(SCC(=O)NC(=O)NC(C)(C)C)n1        0.021739  \n",
              "915657   COC(=O)[C@]1(C)CCC[C@@]2(C)C3CC[C@@]4(C)C[C@]3...        0.019231  \n",
              "1092265                 CCCCCC(O)CCC1SCC(=O)N1CCCCCCC(=O)O        0.018868  \n",
              "1214354  Cn1nc(C(=O)N2CCOCC2)c2c1CN(CC1CC1)C2.O=C(O)C(F...        0.017857  \n",
              "1235414                     CCC(CC)CS(=O)(=O)NC(=O)C1CCCC1        0.000000  \n",
              "\n",
              "[100 rows x 32 columns]"
            ],
            "text/html": [
              "\n",
              "  <div id=\"df-07e6814e-352e-4bbc-b43e-5959e02ed00d\">\n",
              "    <div class=\"colab-df-container\">\n",
              "      <div>\n",
              "<style scoped>\n",
              "    .dataframe tbody tr th:only-of-type {\n",
              "        vertical-align: middle;\n",
              "    }\n",
              "\n",
              "    .dataframe tbody tr th {\n",
              "        vertical-align: top;\n",
              "    }\n",
              "\n",
              "    .dataframe thead th {\n",
              "        text-align: right;\n",
              "    }\n",
              "</style>\n",
              "<table border=\"1\" class=\"dataframe\">\n",
              "  <thead>\n",
              "    <tr style=\"text-align: right;\">\n",
              "      <th></th>\n",
              "      <th>ChEMBL ID</th>\n",
              "      <th>Name</th>\n",
              "      <th>Synonyms</th>\n",
              "      <th>Type</th>\n",
              "      <th>Max Phase</th>\n",
              "      <th>Molecular Weight</th>\n",
              "      <th>Targets</th>\n",
              "      <th>Bioactivities</th>\n",
              "      <th>AlogP</th>\n",
              "      <th>Polar Surface Area</th>\n",
              "      <th>...</th>\n",
              "      <th>Inorganic Flag</th>\n",
              "      <th>Heavy Atoms</th>\n",
              "      <th>HBA (Lipinski)</th>\n",
              "      <th>HBD (Lipinski)</th>\n",
              "      <th>#RO5 Violations (Lipinski)</th>\n",
              "      <th>Molecular Weight (Monoisotopic)</th>\n",
              "      <th>Molecular Species</th>\n",
              "      <th>Molecular Formula</th>\n",
              "      <th>Smiles</th>\n",
              "      <th>tanimoto_values</th>\n",
              "    </tr>\n",
              "  </thead>\n",
              "  <tbody>\n",
              "    <tr>\n",
              "      <th>863654</th>\n",
              "      <td>CHEMBL4281929</td>\n",
              "      <td>NaN</td>\n",
              "      <td>NaN</td>\n",
              "      <td>Small molecule</td>\n",
              "      <td>0</td>\n",
              "      <td>384.34</td>\n",
              "      <td>7.0</td>\n",
              "      <td>7.0</td>\n",
              "      <td>2.50</td>\n",
              "      <td>74.76</td>\n",
              "      <td>...</td>\n",
              "      <td>-1</td>\n",
              "      <td>28</td>\n",
              "      <td>6</td>\n",
              "      <td>0</td>\n",
              "      <td>0</td>\n",
              "      <td>384.0922</td>\n",
              "      <td>NEUTRAL</td>\n",
              "      <td>C20H14F2N2O4</td>\n",
              "      <td>O=C1C(=O)N(CCCCN2C(=O)C(=O)c3cc(F)ccc32)c2ccc(...</td>\n",
              "      <td>0.125000</td>\n",
              "    </tr>\n",
              "    <tr>\n",
              "      <th>289034</th>\n",
              "      <td>CHEMBL98256</td>\n",
              "      <td>NaN</td>\n",
              "      <td>NaN</td>\n",
              "      <td>Small molecule</td>\n",
              "      <td>0</td>\n",
              "      <td>271.10</td>\n",
              "      <td>6.0</td>\n",
              "      <td>6.0</td>\n",
              "      <td>3.91</td>\n",
              "      <td>48.07</td>\n",
              "      <td>...</td>\n",
              "      <td>-1</td>\n",
              "      <td>17</td>\n",
              "      <td>4</td>\n",
              "      <td>0</td>\n",
              "      <td>0</td>\n",
              "      <td>269.9963</td>\n",
              "      <td>None</td>\n",
              "      <td>C11H8Cl2N2O2</td>\n",
              "      <td>Cn1cc(-c2ccc(Cl)cc2Cl)c([N+](=O)[O-])c1</td>\n",
              "      <td>0.111111</td>\n",
              "    </tr>\n",
              "    <tr>\n",
              "      <th>517765</th>\n",
              "      <td>CHEMBL1884707</td>\n",
              "      <td>NaN</td>\n",
              "      <td>NaN</td>\n",
              "      <td>Small molecule</td>\n",
              "      <td>0</td>\n",
              "      <td>181.24</td>\n",
              "      <td>2.0</td>\n",
              "      <td>3.0</td>\n",
              "      <td>1.26</td>\n",
              "      <td>63.81</td>\n",
              "      <td>...</td>\n",
              "      <td>-1</td>\n",
              "      <td>13</td>\n",
              "      <td>4</td>\n",
              "      <td>3</td>\n",
              "      <td>0</td>\n",
              "      <td>181.1215</td>\n",
              "      <td>NEUTRAL</td>\n",
              "      <td>C9H15N3O</td>\n",
              "      <td>Nc1cc(=O)[nH]n1C1CCCCC1</td>\n",
              "      <td>0.096774</td>\n",
              "    </tr>\n",
              "    <tr>\n",
              "      <th>1176332</th>\n",
              "      <td>CHEMBL1569383</td>\n",
              "      <td>NaN</td>\n",
              "      <td>NaN</td>\n",
              "      <td>Small molecule</td>\n",
              "      <td>0</td>\n",
              "      <td>226.71</td>\n",
              "      <td>13.0</td>\n",
              "      <td>15.0</td>\n",
              "      <td>3.11</td>\n",
              "      <td>24.39</td>\n",
              "      <td>...</td>\n",
              "      <td>-1</td>\n",
              "      <td>13</td>\n",
              "      <td>2</td>\n",
              "      <td>1</td>\n",
              "      <td>0</td>\n",
              "      <td>172.1000</td>\n",
              "      <td>BASE</td>\n",
              "      <td>C11H15ClN2O</td>\n",
              "      <td>CC1=CC(C)=Nc2ccccc2N1.Cl.O</td>\n",
              "      <td>0.096774</td>\n",
              "    </tr>\n",
              "    <tr>\n",
              "      <th>1305326</th>\n",
              "      <td>CHEMBL3687967</td>\n",
              "      <td>NaN</td>\n",
              "      <td>NaN</td>\n",
              "      <td>Small molecule</td>\n",
              "      <td>0</td>\n",
              "      <td>297.27</td>\n",
              "      <td>1.0</td>\n",
              "      <td>1.0</td>\n",
              "      <td>3.32</td>\n",
              "      <td>91.29</td>\n",
              "      <td>...</td>\n",
              "      <td>-1</td>\n",
              "      <td>22</td>\n",
              "      <td>7</td>\n",
              "      <td>0</td>\n",
              "      <td>0</td>\n",
              "      <td>297.0750</td>\n",
              "      <td>NEUTRAL</td>\n",
              "      <td>C15H11N3O4</td>\n",
              "      <td>COc1ccccc1-c1nc(-c2cccc([N+](=O)[O-])c2)no1</td>\n",
              "      <td>0.085106</td>\n",
              "    </tr>\n",
              "    <tr>\n",
              "      <th>...</th>\n",
              "      <td>...</td>\n",
              "      <td>...</td>\n",
              "      <td>...</td>\n",
              "      <td>...</td>\n",
              "      <td>...</td>\n",
              "      <td>...</td>\n",
              "      <td>...</td>\n",
              "      <td>...</td>\n",
              "      <td>...</td>\n",
              "      <td>...</td>\n",
              "      <td>...</td>\n",
              "      <td>...</td>\n",
              "      <td>...</td>\n",
              "      <td>...</td>\n",
              "      <td>...</td>\n",
              "      <td>...</td>\n",
              "      <td>...</td>\n",
              "      <td>...</td>\n",
              "      <td>...</td>\n",
              "      <td>...</td>\n",
              "      <td>...</td>\n",
              "    </tr>\n",
              "    <tr>\n",
              "      <th>1126723</th>\n",
              "      <td>CHEMBL1459906</td>\n",
              "      <td>NaN</td>\n",
              "      <td>NaN</td>\n",
              "      <td>Small molecule</td>\n",
              "      <td>0</td>\n",
              "      <td>299.40</td>\n",
              "      <td>3.0</td>\n",
              "      <td>4.0</td>\n",
              "      <td>1.64</td>\n",
              "      <td>99.77</td>\n",
              "      <td>...</td>\n",
              "      <td>-1</td>\n",
              "      <td>20</td>\n",
              "      <td>7</td>\n",
              "      <td>3</td>\n",
              "      <td>0</td>\n",
              "      <td>299.1416</td>\n",
              "      <td>NEUTRAL</td>\n",
              "      <td>C12H21N5O2S</td>\n",
              "      <td>CC(C)c1n[nH]c(SCC(=O)NC(=O)NC(C)(C)C)n1</td>\n",
              "      <td>0.021739</td>\n",
              "    </tr>\n",
              "    <tr>\n",
              "      <th>915657</th>\n",
              "      <td>CHEMBL1396745</td>\n",
              "      <td>NaN</td>\n",
              "      <td>NaN</td>\n",
              "      <td>Small molecule</td>\n",
              "      <td>0</td>\n",
              "      <td>347.50</td>\n",
              "      <td>7.0</td>\n",
              "      <td>8.0</td>\n",
              "      <td>4.79</td>\n",
              "      <td>58.89</td>\n",
              "      <td>...</td>\n",
              "      <td>-1</td>\n",
              "      <td>25</td>\n",
              "      <td>4</td>\n",
              "      <td>1</td>\n",
              "      <td>0</td>\n",
              "      <td>347.2460</td>\n",
              "      <td>NEUTRAL</td>\n",
              "      <td>C21H33NO3</td>\n",
              "      <td>COC(=O)[C@]1(C)CCC[C@@]2(C)C3CC[C@@]4(C)C[C@]3...</td>\n",
              "      <td>0.019231</td>\n",
              "    </tr>\n",
              "    <tr>\n",
              "      <th>1092265</th>\n",
              "      <td>CHEMBL3274609</td>\n",
              "      <td>NaN</td>\n",
              "      <td>NaN</td>\n",
              "      <td>Small molecule</td>\n",
              "      <td>0</td>\n",
              "      <td>359.53</td>\n",
              "      <td>2.0</td>\n",
              "      <td>5.0</td>\n",
              "      <td>3.64</td>\n",
              "      <td>77.84</td>\n",
              "      <td>...</td>\n",
              "      <td>-1</td>\n",
              "      <td>24</td>\n",
              "      <td>5</td>\n",
              "      <td>2</td>\n",
              "      <td>0</td>\n",
              "      <td>359.2130</td>\n",
              "      <td>ACID</td>\n",
              "      <td>C18H33NO4S</td>\n",
              "      <td>CCCCCC(O)CCC1SCC(=O)N1CCCCCCC(=O)O</td>\n",
              "      <td>0.018868</td>\n",
              "    </tr>\n",
              "    <tr>\n",
              "      <th>1214354</th>\n",
              "      <td>CHEMBL3503839</td>\n",
              "      <td>NaN</td>\n",
              "      <td>NaN</td>\n",
              "      <td>Small molecule</td>\n",
              "      <td>0</td>\n",
              "      <td>518.41</td>\n",
              "      <td>10.0</td>\n",
              "      <td>18.0</td>\n",
              "      <td>0.62</td>\n",
              "      <td>50.60</td>\n",
              "      <td>...</td>\n",
              "      <td>-1</td>\n",
              "      <td>21</td>\n",
              "      <td>6</td>\n",
              "      <td>0</td>\n",
              "      <td>0</td>\n",
              "      <td>290.1743</td>\n",
              "      <td>NEUTRAL</td>\n",
              "      <td>C19H24F6N4O6</td>\n",
              "      <td>Cn1nc(C(=O)N2CCOCC2)c2c1CN(CC1CC1)C2.O=C(O)C(F...</td>\n",
              "      <td>0.017857</td>\n",
              "    </tr>\n",
              "    <tr>\n",
              "      <th>1235414</th>\n",
              "      <td>CHEMBL3465920</td>\n",
              "      <td>NaN</td>\n",
              "      <td>NaN</td>\n",
              "      <td>Small molecule</td>\n",
              "      <td>0</td>\n",
              "      <td>261.39</td>\n",
              "      <td>13.0</td>\n",
              "      <td>22.0</td>\n",
              "      <td>2.06</td>\n",
              "      <td>63.24</td>\n",
              "      <td>...</td>\n",
              "      <td>-1</td>\n",
              "      <td>17</td>\n",
              "      <td>4</td>\n",
              "      <td>1</td>\n",
              "      <td>0</td>\n",
              "      <td>261.1399</td>\n",
              "      <td>ACID</td>\n",
              "      <td>C12H23NO3S</td>\n",
              "      <td>CCC(CC)CS(=O)(=O)NC(=O)C1CCCC1</td>\n",
              "      <td>0.000000</td>\n",
              "    </tr>\n",
              "  </tbody>\n",
              "</table>\n",
              "<p>100 rows × 32 columns</p>\n",
              "</div>\n",
              "      <button class=\"colab-df-convert\" onclick=\"convertToInteractive('df-07e6814e-352e-4bbc-b43e-5959e02ed00d')\"\n",
              "              title=\"Convert this dataframe to an interactive table.\"\n",
              "              style=\"display:none;\">\n",
              "        \n",
              "  <svg xmlns=\"http://www.w3.org/2000/svg\" height=\"24px\"viewBox=\"0 0 24 24\"\n",
              "       width=\"24px\">\n",
              "    <path d=\"M0 0h24v24H0V0z\" fill=\"none\"/>\n",
              "    <path d=\"M18.56 5.44l.94 2.06.94-2.06 2.06-.94-2.06-.94-.94-2.06-.94 2.06-2.06.94zm-11 1L8.5 8.5l.94-2.06 2.06-.94-2.06-.94L8.5 2.5l-.94 2.06-2.06.94zm10 10l.94 2.06.94-2.06 2.06-.94-2.06-.94-.94-2.06-.94 2.06-2.06.94z\"/><path d=\"M17.41 7.96l-1.37-1.37c-.4-.4-.92-.59-1.43-.59-.52 0-1.04.2-1.43.59L10.3 9.45l-7.72 7.72c-.78.78-.78 2.05 0 2.83L4 21.41c.39.39.9.59 1.41.59.51 0 1.02-.2 1.41-.59l7.78-7.78 2.81-2.81c.8-.78.8-2.07 0-2.86zM5.41 20L4 18.59l7.72-7.72 1.47 1.35L5.41 20z\"/>\n",
              "  </svg>\n",
              "      </button>\n",
              "      \n",
              "  <style>\n",
              "    .colab-df-container {\n",
              "      display:flex;\n",
              "      flex-wrap:wrap;\n",
              "      gap: 12px;\n",
              "    }\n",
              "\n",
              "    .colab-df-convert {\n",
              "      background-color: #E8F0FE;\n",
              "      border: none;\n",
              "      border-radius: 50%;\n",
              "      cursor: pointer;\n",
              "      display: none;\n",
              "      fill: #1967D2;\n",
              "      height: 32px;\n",
              "      padding: 0 0 0 0;\n",
              "      width: 32px;\n",
              "    }\n",
              "\n",
              "    .colab-df-convert:hover {\n",
              "      background-color: #E2EBFA;\n",
              "      box-shadow: 0px 1px 2px rgba(60, 64, 67, 0.3), 0px 1px 3px 1px rgba(60, 64, 67, 0.15);\n",
              "      fill: #174EA6;\n",
              "    }\n",
              "\n",
              "    [theme=dark] .colab-df-convert {\n",
              "      background-color: #3B4455;\n",
              "      fill: #D2E3FC;\n",
              "    }\n",
              "\n",
              "    [theme=dark] .colab-df-convert:hover {\n",
              "      background-color: #434B5C;\n",
              "      box-shadow: 0px 1px 3px 1px rgba(0, 0, 0, 0.15);\n",
              "      filter: drop-shadow(0px 1px 2px rgba(0, 0, 0, 0.3));\n",
              "      fill: #FFFFFF;\n",
              "    }\n",
              "  </style>\n",
              "\n",
              "      <script>\n",
              "        const buttonEl =\n",
              "          document.querySelector('#df-07e6814e-352e-4bbc-b43e-5959e02ed00d button.colab-df-convert');\n",
              "        buttonEl.style.display =\n",
              "          google.colab.kernel.accessAllowed ? 'block' : 'none';\n",
              "\n",
              "        async function convertToInteractive(key) {\n",
              "          const element = document.querySelector('#df-07e6814e-352e-4bbc-b43e-5959e02ed00d');\n",
              "          const dataTable =\n",
              "            await google.colab.kernel.invokeFunction('convertToInteractive',\n",
              "                                                     [key], {});\n",
              "          if (!dataTable) return;\n",
              "\n",
              "          const docLinkHtml = 'Like what you see? Visit the ' +\n",
              "            '<a target=\"_blank\" href=https://colab.research.google.com/notebooks/data_table.ipynb>data table notebook</a>'\n",
              "            + ' to learn more about interactive tables.';\n",
              "          element.innerHTML = '';\n",
              "          dataTable['output_type'] = 'display_data';\n",
              "          await google.colab.output.renderOutput(dataTable, element);\n",
              "          const docLink = document.createElement('div');\n",
              "          docLink.innerHTML = docLinkHtml;\n",
              "          element.appendChild(docLink);\n",
              "        }\n",
              "      </script>\n",
              "    </div>\n",
              "  </div>\n",
              "  "
            ]
          },
          "metadata": {},
          "execution_count": 110
        }
      ]
    }
  ]
}